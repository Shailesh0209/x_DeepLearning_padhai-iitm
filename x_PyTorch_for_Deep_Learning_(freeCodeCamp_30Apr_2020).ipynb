{
  "nbformat": 4,
  "nbformat_minor": 0,
  "metadata": {
    "colab": {
      "name": "x_PyTorch_for_Deep_Learning-(freeCodeCamp-30Apr-2020).ipynb",
      "private_outputs": true,
      "provenance": [],
      "authorship_tag": "ABX9TyM2JBGHlXb8sqDodM2+YM2v",
      "include_colab_link": true
    },
    "kernelspec": {
      "name": "python3",
      "display_name": "Python 3"
    },
    "language_info": {
      "name": "python"
    }
  },
  "cells": [
    {
      "cell_type": "markdown",
      "metadata": {
        "id": "view-in-github",
        "colab_type": "text"
      },
      "source": [
        "<a href=\"https://colab.research.google.com/github/Shailesh0209/x_DeepLearning_padhai-iitm/blob/main/x_PyTorch_for_Deep_Learning_(freeCodeCamp_30Apr_2020).ipynb\" target=\"_parent\"><img src=\"https://colab.research.google.com/assets/colab-badge.svg\" alt=\"Open In Colab\"/></a>"
      ]
    },
    {
      "cell_type": "code",
      "execution_count": null,
      "metadata": {
        "id": "V7VZ7x8wptSM"
      },
      "outputs": [],
      "source": [
        ""
      ]
    }
  ]
}