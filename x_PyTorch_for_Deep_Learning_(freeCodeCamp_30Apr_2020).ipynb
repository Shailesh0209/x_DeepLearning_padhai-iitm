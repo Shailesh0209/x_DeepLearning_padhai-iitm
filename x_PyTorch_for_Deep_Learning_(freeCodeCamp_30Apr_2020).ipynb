{
  "nbformat": 4,
  "nbformat_minor": 0,
  "metadata": {
    "colab": {
      "name": "x_PyTorch_for_Deep_Learning-(freeCodeCamp-30Apr-2020).ipynb",
      "private_outputs": true,
      "provenance": [],
      "authorship_tag": "ABX9TyPdDrxSwZdygsBt+4+dJZEi",
      "include_colab_link": true
    },
    "kernelspec": {
      "name": "python3",
      "display_name": "Python 3"
    },
    "language_info": {
      "name": "python"
    }
  },
  "cells": [
    {
      "cell_type": "markdown",
      "metadata": {
        "id": "view-in-github",
        "colab_type": "text"
      },
      "source": [
        "<a href=\"https://colab.research.google.com/github/Shailesh0209/x_DeepLearning_padhai-iitm/blob/main/x_PyTorch_for_Deep_Learning_(freeCodeCamp_30Apr_2020).ipynb\" target=\"_parent\"><img src=\"https://colab.research.google.com/assets/colab-badge.svg\" alt=\"Open In Colab\"/></a>"
      ]
    },
    {
      "cell_type": "code",
      "execution_count": null,
      "metadata": {
        "id": "V7VZ7x8wptSM"
      },
      "outputs": [],
      "source": [
        "import torch"
      ]
    },
    {
      "cell_type": "markdown",
      "source": [
        "# Tensors\n",
        "At its core, PyTorch is a library for processing tensors. A tensor is a number, vector, matrix or any n-dimensional array. Let's create a tensor with a single number:"
      ],
      "metadata": {
        "id": "cWmW7iaju9sv"
      }
    },
    {
      "cell_type": "code",
      "source": [
        "# Number \n",
        "t1 = torch.tensor(4.) \n",
        "t1"
      ],
      "metadata": {
        "id": "k7I8p6lFuTyY"
      },
      "execution_count": null,
      "outputs": []
    },
    {
      "cell_type": "markdown",
      "source": [
        "4. is a shorthand for 4.0. It is used to indicate Python (and PyTorch) that you want to create a floating point number. We can verify this by checking the dtype attribute of our tensor:"
      ],
      "metadata": {
        "id": "e38BysDNvbx5"
      }
    },
    {
      "cell_type": "code",
      "source": [
        "t1.dtype"
      ],
      "metadata": {
        "id": "6X2NP3SgvXxk"
      },
      "execution_count": null,
      "outputs": []
    },
    {
      "cell_type": "markdown",
      "source": [
        "Let's try  creating slightly more complex tensors:"
      ],
      "metadata": {
        "id": "D_52bYTdv1Qb"
      }
    },
    {
      "cell_type": "code",
      "source": [
        "# Vector\n",
        "t2 = torch.tensor([1., 2, 3, 4])\n",
        "t2\n",
        "t2.dtype"
      ],
      "metadata": {
        "id": "ncE76_kBvw3l"
      },
      "execution_count": null,
      "outputs": []
    },
    {
      "cell_type": "code",
      "source": [
        ""
      ],
      "metadata": {
        "id": "OjxQTYURxIkX"
      },
      "execution_count": null,
      "outputs": []
    },
    {
      "cell_type": "code",
      "source": [
        "#Matrix\n",
        "t3 = torch.tensor([[5., 6], [7, 8], [9, 10]])\n",
        "print(t3, '\\n',t3.dtype)"
      ],
      "metadata": {
        "id": "y4q8a45cw42K"
      },
      "execution_count": null,
      "outputs": []
    },
    {
      "cell_type": "code",
      "source": [
        "# 3-dimensional array\n",
        "t4 = torch.tensor([\n",
        "                   [[11, 12, 13],\n",
        "                    [13, 14, 15]],\n",
        "                   [[15, 16, 17],\n",
        "                    [17, 18, 19.]]])\n",
        "t4"
      ],
      "metadata": {
        "id": "zLFteb42xCaR"
      },
      "execution_count": null,
      "outputs": []
    },
    {
      "cell_type": "markdown",
      "source": [
        "tensors can have any number of dimensions, and different lengths along each dimension. We can inspect the length along each dimension using the .shape property of a tensor."
      ],
      "metadata": {
        "id": "g1vcGp-MyTqA"
      }
    },
    {
      "cell_type": "code",
      "source": [
        "t1.shape"
      ],
      "metadata": {
        "id": "C259ju5Zx8nu"
      },
      "execution_count": null,
      "outputs": []
    },
    {
      "cell_type": "code",
      "source": [
        "print(t2)\n",
        "t2.shape"
      ],
      "metadata": {
        "id": "IB7U03ExyxHa"
      },
      "execution_count": null,
      "outputs": []
    },
    {
      "cell_type": "code",
      "source": [
        "print(t3)\n",
        "t3.shape"
      ],
      "metadata": {
        "id": "hoVYiUKDy0I8"
      },
      "execution_count": null,
      "outputs": []
    },
    {
      "cell_type": "code",
      "source": [
        "print(t4)\n",
        "t4.shape"
      ],
      "metadata": {
        "id": "Ea-pAJ84y_jo"
      },
      "execution_count": null,
      "outputs": []
    },
    {
      "cell_type": "markdown",
      "source": [
        "# Tensor operations and gradients\n",
        "We can combine tensors with the usual arithmetic operations. Let's look an example:"
      ],
      "metadata": {
        "id": "LNeag6uuzc-F"
      }
    },
    {
      "cell_type": "code",
      "source": [
        "# Create tensors.\n",
        "x = torch.tensor(3.)\n",
        "w = torch.tensor(4., requires_grad=True)\n",
        "b = torch.tensor(5., requires_grad=True)"
      ],
      "metadata": {
        "id": "ltnsI6mwzB5n"
      },
      "execution_count": null,
      "outputs": []
    },
    {
      "cell_type": "markdown",
      "source": [
        "We've created 3 tensors x, w and b, all numbers. w and b have an additional parameter requires_grad set to True. We'll see what it does in just a moment.\n",
        "\n",
        "Let's create a new tensor y by combining these tensors:"
      ],
      "metadata": {
        "id": "dPHd0zwYz5JJ"
      }
    },
    {
      "cell_type": "code",
      "source": [
        "# Arithmetic operations\n",
        "y = w * x + b\n",
        "y"
      ],
      "metadata": {
        "id": "QVYG_XcYz4Du"
      },
      "execution_count": null,
      "outputs": []
    },
    {
      "cell_type": "markdown",
      "source": [
        "As expected, y is a tensor with the value 3 * 4 + 5 = 17. What makes \n",
        "PyTorch special is that we can automatically compute the \n",
        "derivative of y w.r.t. the tensors that have requires_grad set \n",
        "to True i.e. w and b. To compute the derivatives, we can call the\n",
        ".backward method on our result y."
      ],
      "metadata": {
        "id": "g_O8VzdC0qKq"
      }
    },
    {
      "cell_type": "code",
      "source": [
        "# Compute derivatives\n",
        "y.backward()"
      ],
      "metadata": {
        "id": "Agv2uZ7_0dEN"
      },
      "execution_count": null,
      "outputs": []
    },
    {
      "cell_type": "markdown",
      "source": [
        "The derivatives of y w.r.t the input tensors are stored in the .grad property of the respective tensors."
      ],
      "metadata": {
        "id": "E5k7Nzln1euI"
      }
    },
    {
      "cell_type": "code",
      "source": [
        "# Display gradients\n",
        "print('dy/dx:', x.grad)\n",
        "print('dy/dw:', w.grad)\n",
        "print('dy/db:', b.grad)"
      ],
      "metadata": {
        "id": "j86VOWXY1cuj"
      },
      "execution_count": null,
      "outputs": []
    },
    {
      "cell_type": "markdown",
      "source": [
        "`1. Note that x.grad is None, because x \n",
        "doesn't have requires_grad set\n",
        "to True`\n",
        "\n",
        "`2. The \"grad\" in w.grad stands for gradient, which is another term\n",
        "for derivative, used mainly when dealing with matrices.`"
      ],
      "metadata": {
        "id": "yPboQUFe2ccG"
      }
    },
    {
      "cell_type": "markdown",
      "source": [
        "# Interoperability with Numpy\n",
        "\n",
        "[Numpy](http://www.numpy.org/) is a popular open-source library used for mathematical and scientific computing in Python. It enables efficient operations on large multi-dimensional arrays and has a vast ecosystem of supporting libraries, including:\n",
        "\n",
        "* [Pandas](https://pandas.pydata.org/) for file I/O and data analysis\n",
        "* [Matplotlib](https://matplotlib.org/) for plotting and visualization\n",
        "* [OpenCV](https://opencv.org/) for image and video processing\n",
        "\n",
        "\n",
        "If you're interested in learning more about Numpy and other data science libraries in Python, check out this tutorial series: https://jovian.ai/aakashns/python-numerical-computing-with-numpy .\n",
        "\n",
        "Instead of reinventing the wheel, PyTorch interoperates well with Numpy to leverage its existing ecosystem of tools and libraries."
      ],
      "metadata": {
        "id": "YU_cYSKy3PLC"
      }
    },
    {
      "cell_type": "markdown",
      "source": [
        "##Here's how we create an array in Numpy:"
      ],
      "metadata": {
        "id": "mUBMI7Sd3tQ_"
      }
    },
    {
      "cell_type": "code",
      "source": [
        "import numpy as np\n",
        "\n",
        "x = np.array([[1, 2], [3, 4.]])\n",
        "x"
      ],
      "metadata": {
        "id": "i1ioRTQl14TM"
      },
      "execution_count": null,
      "outputs": []
    },
    {
      "cell_type": "markdown",
      "source": [
        "`We can convert a Numpy array to a PyTorch tensor using \n",
        "torch.from_numpy`"
      ],
      "metadata": {
        "id": "sPqXrVrE3-tL"
      }
    },
    {
      "cell_type": "code",
      "source": [
        "# Convert the numpy array to a torch tensor.\n",
        "y = torch.from_numpy(x)\n",
        "y"
      ],
      "metadata": {
        "id": "PP3mij5435wG"
      },
      "execution_count": null,
      "outputs": []
    },
    {
      "cell_type": "code",
      "source": [
        "x.dtype, y.dtype"
      ],
      "metadata": {
        "id": "jjY_Mjx-4T6j"
      },
      "execution_count": null,
      "outputs": []
    },
    {
      "cell_type": "markdown",
      "source": [
        "We can convert a PyTorch tensor to a Numpy using the .numpy\n",
        "method of a tensor."
      ],
      "metadata": {
        "id": "q_RPM0SK4r5Z"
      }
    },
    {
      "cell_type": "code",
      "source": [
        "# Convert a torch tensor to a numpy array\n",
        "z = y.numpy()\n",
        "z"
      ],
      "metadata": {
        "id": "mlgo4m9Y4nhh"
      },
      "execution_count": null,
      "outputs": []
    },
    {
      "cell_type": "markdown",
      "source": [
        "`The interoperability between PyTorch and Numpy is really\n",
        "important because most datasets you'll work with will likely be read and preprocessed as Numpy arrays.`"
      ],
      "metadata": {
        "id": "tg-xrm4W5BmC"
      }
    },
    {
      "cell_type": "code",
      "source": [
        ""
      ],
      "metadata": {
        "id": "p343Rs_j48Et"
      },
      "execution_count": null,
      "outputs": []
    }
  ]
}